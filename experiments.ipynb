{
 "cells": [
  {
   "cell_type": "markdown",
   "metadata": {},
   "source": [
    "## EXPERIMENTS"
   ]
  },
  {
   "cell_type": "markdown",
   "metadata": {},
   "source": [
    "IMPORT DATA \n"
   ]
  },
  {
   "cell_type": "code",
   "execution_count": null,
   "metadata": {},
   "outputs": [],
   "source": [
    "import pandas as pd\n",
    "import seaborn as sns\n",
    "import numpy as np\n",
    "import matplotlib.pyplot as plt\n",
    "import scipy.stats as stats\n",
    "from sklearn.preprocessing import StandardScaler\n",
    "from sklearn.decomposition import PCA\n",
    "from mpl_toolkits.mplot3d import Axes3D"
   ]
  },
  {
   "cell_type": "code",
   "execution_count": null,
   "metadata": {},
   "outputs": [],
   "source": [
    "df = pd.read_csv(\"C:/Users/USER/Desktop/ΓΙΑΝΝΗΣ/Msc BIG DATA ANALYTICS/THESIS/Crime_Data_from_2020.csv\", encoding = \"latin1\", delimiter=';')"
   ]
  },
  {
   "cell_type": "code",
   "execution_count": null,
   "metadata": {},
   "outputs": [],
   "source": [
    "df.info()"
   ]
  },
  {
   "cell_type": "code",
   "execution_count": null,
   "metadata": {},
   "outputs": [],
   "source": [
    "df.describe()"
   ]
  },
  {
   "cell_type": "code",
   "execution_count": null,
   "metadata": {},
   "outputs": [],
   "source": [
    "df.isnull().sum()"
   ]
  },
  {
   "cell_type": "code",
   "execution_count": null,
   "metadata": {},
   "outputs": [],
   "source": [
    "\n",
    "df['Date Rptd'] = pd.to_datetime(df['Date Rptd'].str.split().str[0], errors='coerce')\n",
    "df['DATE OCC'] = pd.to_datetime(df['DATE OCC'].str.split().str[0], errors='coerce')\n",
    "\n"
   ]
  },
  {
   "cell_type": "code",
   "execution_count": null,
   "metadata": {},
   "outputs": [],
   "source": [
    "\n",
    "df['LON'] = df['LON'].str.replace(r'\\.(?=.*\\.)', '', regex=True)\n",
    "df['LON'] = pd.to_numeric(df['LON'], errors='coerce')\n",
    "\n"
   ]
  },
  {
   "cell_type": "code",
   "execution_count": null,
   "metadata": {},
   "outputs": [],
   "source": [
    "df['LAT'] = df['LAT'].apply(lambda x: x / 10 if abs(x) > 100 else x)  \n",
    "df['LON'] = df['LON'].apply(lambda x: x / 10 if abs(x) > 200 else x)"
   ]
  },
  {
   "cell_type": "code",
   "execution_count": null,
   "metadata": {},
   "outputs": [],
   "source": [
    "from datetime import datetime\n",
    "\n",
    "def convert_military_time_to_time(time_str):\n",
    "    try:\n",
    "        time_str = f\"{time_str[:2]}:{time_str[2:]}\"\n",
    "        return datetime.strptime(time_str, '%H:%M').time()\n",
    "    except ValueError:\n",
    "        return None\n",
    "\n",
    "\n",
    "df['TIME OCC'] = df['TIME OCC'].apply(lambda x: convert_military_time_to_time(str(x).zfill(4)))"
   ]
  },
  {
   "cell_type": "code",
   "execution_count": null,
   "metadata": {},
   "outputs": [],
   "source": [
    "\n",
    "columns_to_fill = [ 'Weapon Used Cd', 'Weapon Desc', 'Premis Desc', 'Cross Street', 'Mocodes']\n",
    "df[columns_to_fill] = df[columns_to_fill].fillna('Unknown')\n"
   ]
  },
  {
   "cell_type": "code",
   "execution_count": null,
   "metadata": {},
   "outputs": [],
   "source": [
    "most_frequent_value = df['Crm Cd 1'].mode()[0]\n",
    "df['Crm Cd 1'] = df['Crm Cd 1'].fillna(most_frequent_value)"
   ]
  },
  {
   "cell_type": "code",
   "execution_count": null,
   "metadata": {},
   "outputs": [],
   "source": [
    "df = df.drop(columns=['Crm Cd 2', 'Crm Cd 3', 'Crm Cd 4'])"
   ]
  },
  {
   "cell_type": "code",
   "execution_count": null,
   "metadata": {},
   "outputs": [],
   "source": [
    "df['Month'] = df['Date Rptd'].dt.month \n",
    "df['Day of Week'] = df['Date Rptd'].dt.weekday + 1"
   ]
  },
  {
   "cell_type": "code",
   "execution_count": null,
   "metadata": {},
   "outputs": [],
   "source": [
    "def categorize_crime(crime_desc):\n",
    "    if 'THEFT' in crime_desc:\n",
    "        return 'Theft'\n",
    "    elif 'ASSAULT' in crime_desc:\n",
    "        return 'Assault'\n",
    "    elif 'BURGLARY' in crime_desc:\n",
    "        return 'Burglary'\n",
    "    else:\n",
    "        return 'Other'\n",
    "\n",
    "df['Crime Category'] = df['Crm Cd Desc'].apply(categorize_crime)\n",
    "\n",
    "\n",
    "def severity_crime(crime_desc):\n",
    "    if 'MURDER' in crime_desc or 'RAPE' in crime_desc or 'ROBBERY' in crime_desc:\n",
    "        return 'High'\n",
    "    elif 'ASSAULT' in crime_desc or 'BURGLARY' in crime_desc:\n",
    "        return 'Medium'\n",
    "    else:\n",
    "        return 'Low'\n",
    "\n",
    "df['Crime Severity'] = df['Crm Cd Desc'].apply(severity_crime)\n"
   ]
  },
  {
   "cell_type": "code",
   "execution_count": null,
   "metadata": {},
   "outputs": [],
   "source": [
    "duplicates = df.duplicated()\n",
    "num_duplicates = duplicates.sum()\n",
    "print(f\"Number of duplicate rows: {num_duplicates}\")\n"
   ]
  },
  {
   "cell_type": "code",
   "execution_count": null,
   "metadata": {},
   "outputs": [],
   "source": [
    "\n",
    "df.rename(columns={\n",
    "    'DR_NO': 'Report Number',\n",
    "    'Date Rptd': 'Date Reported',\n",
    "    'DATE OCC': 'Date Occurred',\n",
    "    'TIME OCC': 'Time Occurred',\n",
    "    'AREA': 'Area Code',\n",
    "    'AREA NAME': 'Area Name',\n",
    "    'Rpt Dist No': 'Report District Number',\n",
    "    'Part 1-2': 'Crime Part',\n",
    "    'Crm Cd': 'Crime Code',\n",
    "    'Crm Cd Desc': 'Crime Description',\n",
    "    'Mocodes': 'MO Codes',\n",
    "    'Vict Age': 'Victim Age',\n",
    "    'Vict Sex': 'Victim Sex',\n",
    "    'Vict Descent': 'Victim Descent',\n",
    "    'Premis Cd': 'Premises Code',\n",
    "    'Premis Desc': 'Premises Description',\n",
    "    'Weapon Used Cd': 'Weapon Used Code',\n",
    "    'Weapon Desc': 'Weapon Description',\n",
    "    'Status': 'Crime Status',\n",
    "    'Status Desc': 'Status Description',\n",
    "    'Crm Cd 1': 'Primary Crime Code',\n",
    "    'LOCATION': 'Location',\n",
    "    'Cross Street': 'Cross Street',\n",
    "    'LAT': 'Latitude',\n",
    "    'LON': 'Longitude'\n",
    "}, inplace=True)\n"
   ]
  },
  {
   "cell_type": "code",
   "execution_count": null,
   "metadata": {},
   "outputs": [],
   "source": [
    "df['Crime Level'] = (df['Crime Code'] / 100).apply(np.floor)"
   ]
  },
  {
   "cell_type": "code",
   "execution_count": null,
   "metadata": {},
   "outputs": [],
   "source": [
    "df = df[df['Victim Age'] > 0]\n",
    "age_bins = [0, 18, 35, 55, 100]  \n",
    "age_labels = ['Child (0-18)', 'Young Adult (19-35)', 'Adult (36-55)', 'Senior (56+)']\n",
    "df['Age Category'] = pd.cut(df['Victim Age'], bins=age_bins, labels=age_labels, right=False)\n"
   ]
  },
  {
   "cell_type": "code",
   "execution_count": null,
   "metadata": {},
   "outputs": [],
   "source": [
    "df = df.dropna(subset=['Victim Sex'])"
   ]
  },
  {
   "cell_type": "code",
   "execution_count": null,
   "metadata": {},
   "outputs": [],
   "source": [
    "df['Victim Sex'].unique()\n",
    "sex_counts = df['Victim Sex'].value_counts()\n",
    "\n",
    "threshold = 10000\n",
    "sex_to_other = sex_counts[sex_counts < threshold].index\n",
    "\n",
    "\n",
    "df['Victim Sex'] = df['Victim Sex'].replace(sex_to_other, 'Other')\n"
   ]
  },
  {
   "cell_type": "code",
   "execution_count": null,
   "metadata": {},
   "outputs": [],
   "source": [
    "df['Victim Descent'].unique()\n",
    "\n",
    "descent_counts = df['Victim Descent'].value_counts()\n",
    "threshold = 10000\n",
    "descent_to_other = descent_counts[descent_counts < threshold].index\n",
    "\n",
    "df['Victim Descent'] = df['Victim Descent'].replace(descent_to_other, 'Other')"
   ]
  },
  {
   "cell_type": "code",
   "execution_count": null,
   "metadata": {},
   "outputs": [],
   "source": [
    "df = df.dropna(subset=['Victim Descent','Premises Code'])"
   ]
  },
  {
   "cell_type": "code",
   "execution_count": null,
   "metadata": {},
   "outputs": [],
   "source": [
    "numerical_columns = df.select_dtypes(include=[np.number]).columns.tolist()\n",
    "\n",
    "# Δημιουργία DataFrame με αριθμητικές στήλες\n",
    "df_numerical = df[numerical_columns]\n",
    "\n",
    "# Υπολογισμός μέσης τιμής και τυπικής απόκλισης για τις αριθμητικές στήλες\n",
    "threshold = 2\n",
    "mean = np.mean(df_numerical, axis=0)\n",
    "std = np.std(df_numerical, axis=0)\n",
    "\n",
    "# Εντοπισμός ακραίων τιμών\n",
    "outliers = np.where(np.abs(df_numerical - mean) > threshold * std)\n",
    "\n",
    "df_cleaned_numerical = df_numerical[(np.abs(df_numerical - mean) <= threshold * std).all(axis=1)]\n",
    "\n",
    "# Δημιουργία ενός αντιγράφου του αρχικού DataFrame για τα καθαρισμένα δεδομένα\n",
    "df_cleaned = df.copy()\n",
    "\n",
    "# Αντικατάσταση των αριθμητικών στηλών με τις καθαρισμένες στήλες\n",
    "df_cleaned[numerical_columns] = df_cleaned_numerical\n",
    "\n",
    "# Ενημέρωση του αρχικού DataFrame με το καθαρισμένο DataFrame\n",
    "df.update(df_cleaned)"
   ]
  },
  {
   "cell_type": "code",
   "execution_count": null,
   "metadata": {},
   "outputs": [],
   "source": [
    "df.info()"
   ]
  },
  {
   "cell_type": "code",
   "execution_count": null,
   "metadata": {},
   "outputs": [],
   "source": [
    "\n",
    "plt.figure(figsize=(12, 6))\n",
    "sns.boxplot(x='Crime Severity', y='Victim Age', data=df)\n",
    "plt.title('Crime Severity vs Victim Age')\n",
    "plt.xlabel('Crime Severity')\n",
    "plt.ylabel('Victim Age')\n",
    "plt.show()\n",
    "\n",
    "plt.figure(figsize=(12, 6))\n",
    "sns.countplot(x='Crime Severity', hue='Victim Sex', data=df)\n",
    "plt.title('Crime Severity vs Victim Sex')\n",
    "plt.xlabel('Crime Severity')\n",
    "plt.ylabel('Count')\n",
    "plt.legend(title='Victim Sex', bbox_to_anchor=(1.05, 1), loc='upper left')\n",
    "plt.show()\n"
   ]
  },
  {
   "cell_type": "code",
   "execution_count": null,
   "metadata": {},
   "outputs": [],
   "source": [
    "\n",
    "reported_freq = df['Date Reported'].value_counts().sort_index()\n",
    "occurred_freq = df['Date Occurred'].value_counts().sort_index()\n",
    "reported_freq_ma = reported_freq.rolling(window=7).mean()\n",
    "occurred_freq_ma = occurred_freq.rolling(window=7).mean()\n",
    "\n",
    "plt.figure(figsize=(10, 6))\n",
    "reported_freq_ma.plot(kind='line', label='Date Reported (Moving Average)')\n",
    "occurred_freq_ma.plot(kind='line', label='Date Occurred (Moving Average)')\n",
    "plt.xlabel('Date')\n",
    "plt.ylabel('Frequency')\n",
    "plt.title('Distribution of Date Reported and Date Occurred (Moving Average)')\n",
    "plt.legend()\n",
    "plt.grid(True)\n",
    "plt.show()"
   ]
  },
  {
   "cell_type": "code",
   "execution_count": null,
   "metadata": {},
   "outputs": [],
   "source": [
    "\n",
    "df['Date Difference'] = (df['Date Reported'] - df['Date Occurred']).dt.days\n",
    "    \n",
    "plt.figure(figsize=(10, 6))\n",
    "plt.hist(df['Date Difference'], bins=range(-50, 51), edgecolor='k')\n",
    "plt.xlabel('Difference in Days')\n",
    "plt.ylabel('Frequency')\n",
    "plt.title('Difference Between Date Reported and Date Occurred')\n",
    "plt.grid(True)\n",
    "plt.show()"
   ]
  },
  {
   "cell_type": "code",
   "execution_count": null,
   "metadata": {},
   "outputs": [],
   "source": [
    "import folium\n",
    "from folium.plugins import HeatMap\n",
    "\n",
    "df['Latitude'] = pd.to_numeric(df['Latitude'], errors='coerce')\n",
    "df['Longitude'] = pd.to_numeric(df['Longitude'], errors='coerce')\n",
    "df = df.dropna(subset=['Latitude', 'Longitude'])\n",
    "\n",
    "map_center = [df['Latitude'].mean(), df['Longitude'].mean()]\n",
    "crime_map = folium.Map(location=map_center, zoom_start=12)\n",
    "\n",
    "heat_data = [[row['Latitude'], row['Longitude']] for index, row in df.iterrows()]\n",
    "HeatMap(heat_data).add_to(crime_map)\n"
   ]
  },
  {
   "cell_type": "code",
   "execution_count": null,
   "metadata": {},
   "outputs": [],
   "source": [
    "plt.figure(figsize=(12, 6))\n",
    "sns.countplot(y='Area Name', data=df, order=df['Area Name'].value_counts().index)\n",
    "plt.title('Crime Distribution by Area')\n",
    "plt.xlabel('Count')\n",
    "plt.ylabel('Area')\n",
    "plt.show()"
   ]
  },
  {
   "cell_type": "code",
   "execution_count": null,
   "metadata": {},
   "outputs": [],
   "source": [
    "\n",
    "plt.figure(figsize=(12, 6))\n",
    "sns.histplot(df['Victim Age'], bins=30, kde=True)\n",
    "plt.title('Distribution of Victim Age')\n",
    "plt.xlabel('Victim Age')\n",
    "plt.ylabel('Frequency')\n",
    "plt.show()"
   ]
  },
  {
   "cell_type": "code",
   "execution_count": null,
   "metadata": {},
   "outputs": [],
   "source": [
    "plt.figure(figsize=(12, 6))\n",
    "sns.countplot(x='Victim Sex', data=df, order=df['Victim Sex'].value_counts().index)\n",
    "plt.title('Crime Distribution by Victim Sex')\n",
    "plt.xlabel('Victim Sex')\n",
    "plt.ylabel('Count')\n",
    "plt.show()"
   ]
  },
  {
   "cell_type": "code",
   "execution_count": null,
   "metadata": {},
   "outputs": [],
   "source": [
    "df['Month'] = df['Date Reported'].dt.month_name()\n",
    "df['Day of Week'] = df['Date Reported'].dt.day_name()\n",
    "\n",
    "plt.figure(figsize=(12, 6))\n",
    "sns.countplot(x='Month', data=df, order=df['Month'].value_counts().index)\n",
    "plt.title('Crime Distribution by Month')\n",
    "plt.xlabel('Month')\n",
    "plt.ylabel('Count')\n",
    "plt.show()"
   ]
  },
  {
   "cell_type": "code",
   "execution_count": null,
   "metadata": {},
   "outputs": [],
   "source": [
    "plt.figure(figsize=(12, 6))\n",
    "sns.countplot(x='Day of Week', data=df, order=df['Day of Week'].value_counts().index)\n",
    "plt.title('Crime Distribution by Day of the Week')\n",
    "plt.xlabel('Day of the Week')\n",
    "plt.ylabel('Count')\n",
    "plt.show()"
   ]
  },
  {
   "cell_type": "code",
   "execution_count": null,
   "metadata": {},
   "outputs": [],
   "source": [
    "plt.figure(figsize=(12, 6))\n",
    "sns.countplot(x='Victim Descent', data=df, order=df['Victim Descent'].value_counts().index)\n",
    "plt.title('Crime Distribution by Victim Descent')\n",
    "plt.xlabel('Victim Descent')\n",
    "plt.ylabel('Count')\n",
    "plt.show()"
   ]
  },
  {
   "cell_type": "code",
   "execution_count": null,
   "metadata": {},
   "outputs": [],
   "source": [
    "\n",
    "data_male = df[df['Victim Sex'] == 'M']['Victim Age'].dropna()\n",
    "data_female = df[df['Victim Sex'] == 'F']['Victim Age'].dropna()\n",
    "\n",
    "print(stats.shapiro(data_male))\n",
    "print(stats.shapiro(data_female))\n",
    "\n",
    "t_stat, p_value = stats.ttest_ind(data_male, data_female)\n",
    "\n",
    "print(f\"T-statistic: {t_stat}\")\n",
    "print(f\"P-value: {p_value}\")\n",
    "\n",
    "alpha = 0.05\n",
    "if p_value < alpha:\n",
    "    print(\"Απορρίπτουμε την μηδενική υπόθεση (H0). Υπάρχει στατιστικά σημαντική διαφορά μεταξύ των μέσων ηλικιών των θυμάτων.\")\n",
    "else:\n",
    "    print(\"Δεν απορρίπτουμε την μηδενική υπόθεση (H0). Δεν υπάρχει στατιστικά σημαντική διαφορά μεταξύ των μέσων ηλικιών των θυμάτων.\")"
   ]
  },
  {
   "cell_type": "code",
   "execution_count": null,
   "metadata": {},
   "outputs": [],
   "source": [
    "from statsmodels.formula.api import ols\n",
    "import statsmodels.api as sm\n",
    "model = ols('Q(\"Victim Age\") ~ C(Q(\"Crime Category\"))', data=df).fit()\n",
    "anova_table = sm.stats.anova_lm(model, typ=2)\n",
    "\n",
    "print(anova_table)"
   ]
  },
  {
   "cell_type": "code",
   "execution_count": null,
   "metadata": {},
   "outputs": [],
   "source": [
    "df['Month'] = df['Date Reported'].dt.month  \n",
    "df['Day of Week'] = df['Date Reported'].dt.weekday + 1"
   ]
  },
  {
   "cell_type": "code",
   "execution_count": null,
   "metadata": {},
   "outputs": [],
   "source": [
    "\n",
    "df.to_csv('df_new.csv', index=False)"
   ]
  },
  {
   "cell_type": "code",
   "execution_count": null,
   "metadata": {},
   "outputs": [],
   "source": [
    "df.head()"
   ]
  },
  {
   "cell_type": "code",
   "execution_count": null,
   "metadata": {},
   "outputs": [],
   "source": [
    "\n",
    "from sklearn.preprocessing import StandardScaler\n",
    "from sklearn.decomposition import PCA\n",
    "from sklearn.cluster import KMeans\n",
    "from sklearn.model_selection import train_test_split\n",
    "from sklearn.ensemble import RandomForestClassifier\n",
    "from sklearn.metrics import classification_report, accuracy_score\n",
    "import matplotlib.pyplot as plt\n",
    "import matplotlib.cm as cm\n",
    "import seaborn as sm\n",
    "\n",
    "\n",
    "df_encoded = pd.get_dummies(df[['Crime Category', 'Crime Severity']])\n",
    "\n",
    "df_combined = pd.concat([df_encoded, df[['Crime Level','Primary Crime Code','Area Code','Premises Code','Month','Day of Week','Crime Part','Victim Age','Crime Code','Latitude','Longitude' ]]], axis=1)\n",
    "\n",
    "\n",
    "scaler = StandardScaler()\n",
    "scaled_data = scaler.fit_transform(df_combined)\n",
    "\n",
    "pca = PCA(n_components=7) \n",
    "pca_data = pca.fit_transform(scaled_data)\n",
    "\n",
    "df_pca = pd.DataFrame(pca_data, columns=[f'PC{i+1}' for i in range(7)])\n",
    "\n",
    "explained_variance = pca.explained_variance_ratio_\n",
    "cumulative_explained_variance = explained_variance.cumsum()\n",
    "print('Cumulative explained variance:', cumulative_explained_variance)\n",
    "\n",
    "plt.figure(figsize=(10, 7))\n",
    "plt.scatter(pca_data[:, 0], pca_data[:, 1], alpha=0.5)\n",
    "plt.xlabel('Principal Component 1')\n",
    "plt.ylabel('Principal Component 2')\n",
    "plt.title('PCA of Data (2D)')\n",
    "plt.show()\n",
    "\n"
   ]
  },
  {
   "cell_type": "code",
   "execution_count": null,
   "metadata": {},
   "outputs": [],
   "source": [
    "df_pca.head()"
   ]
  },
  {
   "cell_type": "code",
   "execution_count": null,
   "metadata": {},
   "outputs": [],
   "source": [
    "\n",
    "inertia = []\n",
    "k_range = range(1, 10)\n",
    "\n",
    "for k in k_range:\n",
    "    kmeans = KMeans(n_clusters=k,n_init=10,random_state=42)\n",
    "    kmeans.fit(df_pca)\n",
    "    inertia.append(kmeans.inertia_)\n",
    "\n",
    "# Οπτικοποίηση της μεθόδου Elbow\n",
    "plt.figure(figsize=(10, 7))\n",
    "plt.plot(k_range, inertia, 'bo-')\n",
    "plt.xlabel('Number of clusters (k)')\n",
    "plt.ylabel('Inertia')\n",
    "plt.title('Elbow Method For Optimal k')\n",
    "plt.grid(True)\n",
    "plt.show()\n"
   ]
  },
  {
   "cell_type": "code",
   "execution_count": null,
   "metadata": {},
   "outputs": [],
   "source": [
    "from sklearn.cluster import KMeans\n",
    "import matplotlib.pyplot as plt\n",
    "\n",
    "optimal_clusters = 6\n",
    "\n",
    "kmeans = KMeans(n_clusters=optimal_clusters, random_state=42)\n",
    "df_pca['Cluster'] = kmeans.fit_predict(df_pca)\n",
    "\n",
    "\n",
    "plt.figure(figsize=(10, 6))\n",
    "plt.scatter(df_pca['PC1'], df_pca['PC2'], c=df_pca['Cluster'], cmap='viridis')\n",
    "plt.xlabel('Principal Component 1')\n",
    "plt.ylabel('Principal Component 2')\n",
    "plt.title(f'K-means Clustering with {optimal_clusters} Clusters')\n",
    "plt.show()\n"
   ]
  },
  {
   "cell_type": "code",
   "execution_count": null,
   "metadata": {},
   "outputs": [],
   "source": [
    "df_pca['Victim Sex'] = df['Victim Sex'].values\n",
    "\n",
    "\n",
    "X = df_pca.drop(columns=['Victim Sex'])\n",
    "y_cluster = df_pca['Cluster']\n",
    "y_sex = df_pca['Victim Sex']\n",
    "\n",
    "X_train_cluster, X_test_cluster, y_train_cluster, y_test_cluster = train_test_split(X, y_cluster, test_size=0.3, random_state=42)\n",
    "\n",
    "\n",
    "X_train_sex, X_test_sex, y_train_sex, y_test_sex = train_test_split(X, y_sex, test_size=0.3, random_state=42)\n",
    "\n",
    "classifiers = {\n",
    "    \"Random Forest\": RandomForestClassifier(random_state=42, max_depth=10, n_estimators=200),\n",
    "    \"SVM\": SVC(random_state=42),\n",
    "    \"K-Nearest Neighbors\": KNeighborsClassifier(),\n",
    "    \"Logistic Regression\": LogisticRegression(random_state=42),\n",
    "    \"Decision Tree\": DecisionTreeClassifier(random_state=42),\n",
    "    \"Naive Bayes\": GaussianNB()\n",
    "}\n",
    "\n",
    "\n",
    "print(\"Classification for Cluster\")\n",
    "print(\"=\"*60)\n",
    "for name, clf in classifiers.items():\n",
    "    clf.fit(X_train_cluster, y_train_cluster)\n",
    "    predictions = clf.predict(X_test_cluster)\n",
    "    print(f\"Classification report for Cluster with {name}:\")\n",
    "    print(classification_report(y_test_cluster, predictions))\n",
    "    print(\"\\n\" + \"=\"*60 + \"\\n\")\n",
    "\n",
    "\n",
    "print(\"Classification for Victim Sex\")\n",
    "print(\"=\"*60)\n",
    "for name, clf in classifiers.items():\n",
    "    clf.fit(X_train_sex, y_train_sex)\n",
    "    predictions = clf.predict(X_test_sex)\n",
    "    print(f\"Classification report for Victim Sex with {name}:\")\n",
    "    print(classification_report(y_test_sex, predictions))\n",
    "    print(\"\\n\" + \"=\"*60 + \"\\n\")\n"
   ]
  }
 ],
 "metadata": {
  "kernelspec": {
   "display_name": "Python 3",
   "language": "python",
   "name": "python3"
  },
  "language_info": {
   "codemirror_mode": {
    "name": "ipython",
    "version": 3
   },
   "file_extension": ".py",
   "mimetype": "text/x-python",
   "name": "python",
   "nbconvert_exporter": "python",
   "pygments_lexer": "ipython3",
   "version": "3.10.11"
  }
 },
 "nbformat": 4,
 "nbformat_minor": 2
}
